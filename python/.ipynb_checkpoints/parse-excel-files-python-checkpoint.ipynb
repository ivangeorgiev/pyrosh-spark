{
 "cells": [
  {
   "cell_type": "markdown",
   "metadata": {},
   "source": [
    "# Parse Excel Files in Python\n",
    "\n",
    "This article is available in following formats:\n",
    "* [Parse Excel Files in Python Jupyter Notebook (.ipynb)](parse-excel-files-python.ipynb)\n",
    "* [Parse Excel Files in Python HTML](parse-excel-files-python.html)\n",
    "\n",
    "## Problem\n",
    "\n",
    "Very often data coming from business people is encoded in a variety of formats. Excel is one of the most popular formats for exchanging documents. Documents stored in Excel could be well strucutred or unstructured. The former presents challenge in parsing the document and extracting information from it.\n",
    "\n",
    "## Solution\n",
    "\n",
    "There are many possible approaches to the problem. We are going to use the `xlrd` library to parse Excel files into Python data structures for further processing or data transformations.\n",
    "\n",
    "API documentation can be found at: https://xlrd.readthedocs.io/en/latest/\n",
    "\n",
    "There is a also `xlwr` library for writing Excel files.\n",
    "\n",
    "## Discussion\n"
   ]
  },
  {
   "cell_type": "markdown",
   "metadata": {},
   "source": [
    "### Install `xlrd`\n",
    "\n",
    "To install `xlrd` library, execute following command in a console:\n",
    "\n",
    "```bash\n",
    "pip install xlrd\n",
    "```\n",
    "\n",
    "Once installation is complete, you can start using the `xlrd` library to parse Excel files."
   ]
  },
  {
   "cell_type": "markdown",
   "metadata": {},
   "source": [
    "### Explore `xlrd` Workbook\n",
    "\n",
    "For this exploration we will define some configuration settings."
   ]
  },
  {
   "cell_type": "code",
   "execution_count": 3,
   "metadata": {},
   "outputs": [],
   "source": [
    "# File name for Excel workbook\n",
    "workbook_file = 'res/corruption_perception_index.xls'\n",
    "\n",
    "# Worksheet we are processing\n",
    "sheet_name = 'CPI 2013'\n",
    "\n",
    "# Number of rows to skip from the top of the worksheet\n",
    "skip_rows = 1\n",
    "\n",
    "# Number of header rows after the skip rows\n",
    "header_rows = 2\n"
   ]
  },
  {
   "cell_type": "markdown",
   "metadata": {},
   "source": [
    "We will cover following topics:\n",
    "* Open Excel workbook file\n",
    "* Get number of worksheets in a workbook\n",
    "* Get a list of sheet names from a workbook\n",
    "* Get a list of Sheet objects from a workbook\n",
    "* Find a Sheet by name\n",
    "* Find a Sheet by index\n",
    "\n",
    "Let's start with Excel workbook. To open a workbook we use [`xlrd.open_workbook()`](https://xlrd.readthedocs.io/en/latest/api.html#xlrd.open_workbook). The function returns an instance of a [`Book`](https://xlrd.readthedocs.io/en/latest/api.html#xlrd.book.Book) class."
   ]
  },
  {
   "cell_type": "code",
   "execution_count": 11,
   "metadata": {},
   "outputs": [
    {
     "data": {
      "text/plain": [
       "<xlrd.book.Book at 0x2aa7ee7f198>"
      ]
     },
     "execution_count": 11,
     "metadata": {},
     "output_type": "execute_result"
    }
   ],
   "source": [
    "import xlrd\n",
    "\n",
    "workbook = xlrd.open_workbook(workbook_file)\n",
    "\n",
    "# Workbooks are represented by instances of Book class\n",
    "workbook"
   ]
  },
  {
   "cell_type": "markdown",
   "metadata": {},
   "source": [
    "`Book.nsheets` attribute returns the number of worksheets in the workbook."
   ]
  },
  {
   "cell_type": "code",
   "execution_count": 14,
   "metadata": {},
   "outputs": [
    {
     "data": {
      "text/plain": [
       "1"
      ]
     },
     "execution_count": 14,
     "metadata": {},
     "output_type": "execute_result"
    }
   ],
   "source": [
    "# Get the number of sheets in the workbook.\n",
    "workbook.nsheets"
   ]
  },
  {
   "cell_type": "markdown",
   "metadata": {},
   "source": [
    "`Book.sheets()` method returns a list of sheets in the workbook. Each sheet is represented as a [Sheet](https://xlrd.readthedocs.io/en/latest/api.html#xlrd.sheet.Sheet) object. All sheets not already loaded will be loaded."
   ]
  },
  {
   "cell_type": "code",
   "execution_count": 12,
   "metadata": {},
   "outputs": [
    {
     "name": "stdout",
     "output_type": "stream",
     "text": [
      "CPI 2013\n"
     ]
    }
   ],
   "source": [
    "# List sheets in workbook and print sheet names\n",
    "for sheet in workbook.sheets():\n",
    "    print(sheet.name)"
   ]
  },
  {
   "cell_type": "markdown",
   "metadata": {},
   "source": [
    "`Book.sheet_names()` method returns a list of sheet names from the workbook. This information is available even when no sheets have yet been loaded."
   ]
  },
  {
   "cell_type": "code",
   "execution_count": 13,
   "metadata": {},
   "outputs": [
    {
     "name": "stdout",
     "output_type": "stream",
     "text": [
      "CPI 2013\n"
     ]
    }
   ],
   "source": [
    "# Print names of all sheets in workbook.\n",
    "for sheet_name in workbook.sheet_names():\n",
    "    print(sheet_name)"
   ]
  },
  {
   "cell_type": "markdown",
   "metadata": {},
   "source": [
    "`Book.sheet_by_index(sheet_index)` method returns a sheet by given index. `sheet_index` must be in `range(nsheets)`."
   ]
  },
  {
   "cell_type": "code",
   "execution_count": 16,
   "metadata": {},
   "outputs": [
    {
     "data": {
      "text/plain": [
       "'CPI 2013'"
      ]
     },
     "execution_count": 16,
     "metadata": {},
     "output_type": "execute_result"
    }
   ],
   "source": [
    "# Get the name of the first sheet\n",
    "workbook.sheet_by_index(0).name"
   ]
  },
  {
   "cell_type": "code",
   "execution_count": 18,
   "metadata": {},
   "outputs": [
    {
     "ename": "IndexError",
     "evalue": "list index out of range",
     "output_type": "error",
     "traceback": [
      "\u001b[1;31m---------------------------------------------------------------------------\u001b[0m",
      "\u001b[1;31mIndexError\u001b[0m                                Traceback (most recent call last)",
      "\u001b[1;32m<ipython-input-18-387a3bcae45d>\u001b[0m in \u001b[0;36m<module>\u001b[1;34m\u001b[0m\n\u001b[0;32m      1\u001b[0m \u001b[1;31m# If sheet index is outside the range, an error is raised.\u001b[0m\u001b[1;33m\u001b[0m\u001b[1;33m\u001b[0m\u001b[1;33m\u001b[0m\u001b[0m\n\u001b[1;32m----> 2\u001b[1;33m \u001b[0mworkbook\u001b[0m\u001b[1;33m.\u001b[0m\u001b[0msheet_by_index\u001b[0m\u001b[1;33m(\u001b[0m\u001b[1;36m10\u001b[0m\u001b[1;33m)\u001b[0m\u001b[1;33m.\u001b[0m\u001b[0mname\u001b[0m\u001b[1;33m\u001b[0m\u001b[1;33m\u001b[0m\u001b[0m\n\u001b[0m",
      "\u001b[1;32mc:\\python37\\lib\\site-packages\\xlrd\\book.py\u001b[0m in \u001b[0;36msheet_by_index\u001b[1;34m(self, sheetx)\u001b[0m\n\u001b[0;32m    464\u001b[0m         \u001b[1;33m:\u001b[0m\u001b[0mreturns\u001b[0m\u001b[1;33m:\u001b[0m \u001b[0mA\u001b[0m \u001b[1;33m:\u001b[0m\u001b[1;32mclass\u001b[0m\u001b[1;33m:\u001b[0m\u001b[0;31m`\u001b[0m\u001b[1;33m~\u001b[0m\u001b[0mxlrd\u001b[0m\u001b[1;33m.\u001b[0m\u001b[0msheet\u001b[0m\u001b[1;33m.\u001b[0m\u001b[0mSheet\u001b[0m\u001b[0;31m`\u001b[0m\u001b[1;33m.\u001b[0m\u001b[1;33m\u001b[0m\u001b[1;33m\u001b[0m\u001b[0m\n\u001b[0;32m    465\u001b[0m         \"\"\"\n\u001b[1;32m--> 466\u001b[1;33m         \u001b[1;32mreturn\u001b[0m \u001b[0mself\u001b[0m\u001b[1;33m.\u001b[0m\u001b[0m_sheet_list\u001b[0m\u001b[1;33m[\u001b[0m\u001b[0msheetx\u001b[0m\u001b[1;33m]\u001b[0m \u001b[1;32mor\u001b[0m \u001b[0mself\u001b[0m\u001b[1;33m.\u001b[0m\u001b[0mget_sheet\u001b[0m\u001b[1;33m(\u001b[0m\u001b[0msheetx\u001b[0m\u001b[1;33m)\u001b[0m\u001b[1;33m\u001b[0m\u001b[1;33m\u001b[0m\u001b[0m\n\u001b[0m\u001b[0;32m    467\u001b[0m \u001b[1;33m\u001b[0m\u001b[0m\n\u001b[0;32m    468\u001b[0m     \u001b[1;32mdef\u001b[0m \u001b[0msheet_by_name\u001b[0m\u001b[1;33m(\u001b[0m\u001b[0mself\u001b[0m\u001b[1;33m,\u001b[0m \u001b[0msheet_name\u001b[0m\u001b[1;33m)\u001b[0m\u001b[1;33m:\u001b[0m\u001b[1;33m\u001b[0m\u001b[1;33m\u001b[0m\u001b[0m\n",
      "\u001b[1;31mIndexError\u001b[0m: list index out of range"
     ]
    }
   ],
   "source": [
    "# If sheet index is outside the range, an error is raised.\n",
    "workbook.sheet_by_index(10).name"
   ]
  },
  {
   "cell_type": "markdown",
   "metadata": {},
   "source": [
    "`Book.sheet_by_name(sheet_name)` method returns a sheet by a given name."
   ]
  },
  {
   "cell_type": "code",
   "execution_count": 20,
   "metadata": {},
   "outputs": [
    {
     "data": {
      "text/plain": [
       "0"
      ]
     },
     "execution_count": 20,
     "metadata": {},
     "output_type": "execute_result"
    }
   ],
   "source": [
    "# Get the index of a sheet by name\n",
    "workbook.sheet_by_name(sheet_name).number"
   ]
  },
  {
   "cell_type": "code",
   "execution_count": 22,
   "metadata": {},
   "outputs": [
    {
     "ename": "XLRDError",
     "evalue": "No sheet named <'Sheet must exist'>",
     "output_type": "error",
     "traceback": [
      "\u001b[1;31m---------------------------------------------------------------------------\u001b[0m",
      "\u001b[1;31mValueError\u001b[0m                                Traceback (most recent call last)",
      "\u001b[1;32mc:\\python37\\lib\\site-packages\\xlrd\\book.py\u001b[0m in \u001b[0;36msheet_by_name\u001b[1;34m(self, sheet_name)\u001b[0m\n\u001b[0;32m    473\u001b[0m         \u001b[1;32mtry\u001b[0m\u001b[1;33m:\u001b[0m\u001b[1;33m\u001b[0m\u001b[1;33m\u001b[0m\u001b[0m\n\u001b[1;32m--> 474\u001b[1;33m             \u001b[0msheetx\u001b[0m \u001b[1;33m=\u001b[0m \u001b[0mself\u001b[0m\u001b[1;33m.\u001b[0m\u001b[0m_sheet_names\u001b[0m\u001b[1;33m.\u001b[0m\u001b[0mindex\u001b[0m\u001b[1;33m(\u001b[0m\u001b[0msheet_name\u001b[0m\u001b[1;33m)\u001b[0m\u001b[1;33m\u001b[0m\u001b[1;33m\u001b[0m\u001b[0m\n\u001b[0m\u001b[0;32m    475\u001b[0m         \u001b[1;32mexcept\u001b[0m \u001b[0mValueError\u001b[0m\u001b[1;33m:\u001b[0m\u001b[1;33m\u001b[0m\u001b[1;33m\u001b[0m\u001b[0m\n",
      "\u001b[1;31mValueError\u001b[0m: 'Sheet must exist' is not in list",
      "\nDuring handling of the above exception, another exception occurred:\n",
      "\u001b[1;31mXLRDError\u001b[0m                                 Traceback (most recent call last)",
      "\u001b[1;32m<ipython-input-22-991ea9dd7742>\u001b[0m in \u001b[0;36m<module>\u001b[1;34m\u001b[0m\n\u001b[0;32m      1\u001b[0m \u001b[1;31m# If the sheet doesn't exist, an error is raised.\u001b[0m\u001b[1;33m\u001b[0m\u001b[1;33m\u001b[0m\u001b[1;33m\u001b[0m\u001b[0m\n\u001b[1;32m----> 2\u001b[1;33m \u001b[0mworkbook\u001b[0m\u001b[1;33m.\u001b[0m\u001b[0msheet_by_name\u001b[0m\u001b[1;33m(\u001b[0m\u001b[1;34m'Sheet must exist'\u001b[0m\u001b[1;33m)\u001b[0m\u001b[1;33m\u001b[0m\u001b[1;33m\u001b[0m\u001b[0m\n\u001b[0m",
      "\u001b[1;32mc:\\python37\\lib\\site-packages\\xlrd\\book.py\u001b[0m in \u001b[0;36msheet_by_name\u001b[1;34m(self, sheet_name)\u001b[0m\n\u001b[0;32m    474\u001b[0m             \u001b[0msheetx\u001b[0m \u001b[1;33m=\u001b[0m \u001b[0mself\u001b[0m\u001b[1;33m.\u001b[0m\u001b[0m_sheet_names\u001b[0m\u001b[1;33m.\u001b[0m\u001b[0mindex\u001b[0m\u001b[1;33m(\u001b[0m\u001b[0msheet_name\u001b[0m\u001b[1;33m)\u001b[0m\u001b[1;33m\u001b[0m\u001b[1;33m\u001b[0m\u001b[0m\n\u001b[0;32m    475\u001b[0m         \u001b[1;32mexcept\u001b[0m \u001b[0mValueError\u001b[0m\u001b[1;33m:\u001b[0m\u001b[1;33m\u001b[0m\u001b[1;33m\u001b[0m\u001b[0m\n\u001b[1;32m--> 476\u001b[1;33m             \u001b[1;32mraise\u001b[0m \u001b[0mXLRDError\u001b[0m\u001b[1;33m(\u001b[0m\u001b[1;34m'No sheet named <%r>'\u001b[0m \u001b[1;33m%\u001b[0m \u001b[0msheet_name\u001b[0m\u001b[1;33m)\u001b[0m\u001b[1;33m\u001b[0m\u001b[1;33m\u001b[0m\u001b[0m\n\u001b[0m\u001b[0;32m    477\u001b[0m         \u001b[1;32mreturn\u001b[0m \u001b[0mself\u001b[0m\u001b[1;33m.\u001b[0m\u001b[0msheet_by_index\u001b[0m\u001b[1;33m(\u001b[0m\u001b[0msheetx\u001b[0m\u001b[1;33m)\u001b[0m\u001b[1;33m\u001b[0m\u001b[1;33m\u001b[0m\u001b[0m\n\u001b[0;32m    478\u001b[0m \u001b[1;33m\u001b[0m\u001b[0m\n",
      "\u001b[1;31mXLRDError\u001b[0m: No sheet named <'Sheet must exist'>"
     ]
    }
   ],
   "source": [
    "# If the sheet doesn't exist, an error is raised.\n",
    "workbook.sheet_by_name('Sheet must exist')"
   ]
  },
  {
   "cell_type": "markdown",
   "metadata": {},
   "source": [
    "There are many other methods. For more details, see the API documentation."
   ]
  },
  {
   "cell_type": "markdown",
   "metadata": {},
   "source": [
    "### Explore `xlrd` Sheet\n",
    "\n",
    "To work with Excel workbook sheets, [Sheet](https://xlrd.readthedocs.io/en/latest/api.html#xlrd.sheet.Sheet) class is used.\n",
    "\n",
    "We will cover following topics:\n",
    "* Get sheet information:\n",
    "  - Number of rows: `.nrows` attribute\n",
    "  - Number of colums: `.ncols` attribute\n",
    "  - Sheet name: `.name` attribute\n",
    "* Access cells columnwise:\n",
    "  - `.col(colx)` method for Cell sequence\n",
    "  - `.col_values(colx, start_rowx, end_rowx)` method for value slice\n",
    "  - `.col_slice(colx, start_rowx, end_rowx)` method for Cell slice\n",
    "* Access cells rowwise:\n",
    "  - `.row(rowx)` method for Cell sequence\n",
    "  - `.row_values(rowx, start_colx, end_colx)` method for value slice\n",
    "  - `.row_slice(rowx, start_rowx, end_rowx)` method for Cell slice\n",
    "  - `.get_rows()` generator for iterating over rows\n",
    "* Access individual cells:\n",
    "  - `.cell(rowx, colx)` method for Cell object\n",
    "  - `.cell_value(rowx, colx)` method for cell value"
   ]
  },
  {
   "cell_type": "code",
   "execution_count": 24,
   "metadata": {},
   "outputs": [
    {
     "data": {
      "text/plain": [
       "<xlrd.sheet.Sheet at 0x2aa7eed9be0>"
      ]
     },
     "execution_count": 24,
     "metadata": {},
     "output_type": "execute_result"
    }
   ],
   "source": [
    "sheet = workbook.sheet_by_name(sheet_name)\n",
    "\n",
    "# Sheet is an instance of Sheet class\n",
    "sheet"
   ]
  },
  {
   "cell_type": "markdown",
   "metadata": {},
   "source": [
    "`Sheet.ncols` and `Sheet.nrows` attributes return number of columns and number of rows in a sheet."
   ]
  },
  {
   "cell_type": "code",
   "execution_count": 27,
   "metadata": {},
   "outputs": [
    {
     "name": "stdout",
     "output_type": "stream",
     "text": [
      "Sheet CPI 2013 has 180 rows and 26 columns.\n"
     ]
    }
   ],
   "source": [
    "print(\"Sheet {} has {} rows and {} columns.\".format(sheet.name, sheet.nrows, sheet.ncols))"
   ]
  },
  {
   "cell_type": "markdown",
   "metadata": {},
   "source": [
    "`Sheet.col(colx)` returns a list of `Cell` objects, representing cells in the column."
   ]
  },
  {
   "cell_type": "code",
   "execution_count": 29,
   "metadata": {},
   "outputs": [
    {
     "data": {
      "text/plain": [
       "[empty:'', empty:'', text:'IFS Code']"
      ]
     },
     "execution_count": 29,
     "metadata": {},
     "output_type": "execute_result"
    }
   ],
   "source": [
    "# Get top 3 cells of column 4 (in Excel this is column D)\n",
    "sheet.col(3)[:3]"
   ]
  },
  {
   "cell_type": "markdown",
   "metadata": {},
   "source": [
    "`Sheet.book` attribute holds a reference to the workbook."
   ]
  },
  {
   "cell_type": "code",
   "execution_count": 32,
   "metadata": {},
   "outputs": [
    {
     "data": {
      "text/plain": [
       "1"
      ]
     },
     "execution_count": 32,
     "metadata": {},
     "output_type": "execute_result"
    }
   ],
   "source": [
    "sheet.book.nsheets"
   ]
  },
  {
   "cell_type": "markdown",
   "metadata": {},
   "source": [
    "`Sheet.cell(rowx,colx)` returns a `Cell` object, representing content of the cell at given row and column."
   ]
  },
  {
   "cell_type": "code",
   "execution_count": 33,
   "metadata": {},
   "outputs": [
    {
     "data": {
      "text/plain": [
       "number:128.0"
      ]
     },
     "execution_count": 33,
     "metadata": {},
     "output_type": "execute_result"
    }
   ],
   "source": [
    "sheet.cell(3,3)"
   ]
  },
  {
   "cell_type": "markdown",
   "metadata": {},
   "source": [
    "`Sheet.cell_value(rowx, colx)` returns value of the cell at given row and column. The value is a Python data type."
   ]
  },
  {
   "cell_type": "code",
   "execution_count": 34,
   "metadata": {},
   "outputs": [
    {
     "data": {
      "text/plain": [
       "128.0"
      ]
     },
     "execution_count": 34,
     "metadata": {},
     "output_type": "execute_result"
    }
   ],
   "source": [
    "sheet.cell_value(3,3)"
   ]
  },
  {
   "cell_type": "markdown",
   "metadata": {},
   "source": [
    "`Sheet.row(rowx)` returns a sequence of `Cell` objects in a given row."
   ]
  },
  {
   "cell_type": "code",
   "execution_count": 36,
   "metadata": {},
   "outputs": [
    {
     "data": {
      "text/plain": [
       "[number:1.0, text:'New Zealand', text:'NZL', number:196.0, text:'AP']"
      ]
     },
     "execution_count": 36,
     "metadata": {},
     "output_type": "execute_result"
    }
   ],
   "source": [
    "# Get first 5 Cell objects in row 5\n",
    "sheet.row(4)[:5]"
   ]
  },
  {
   "cell_type": "markdown",
   "metadata": {},
   "source": [
    "`Sheet.get_rows()` returns a generator for iterating through each row. Note that there is no `.get_cols()` method."
   ]
  },
  {
   "cell_type": "code",
   "execution_count": 41,
   "metadata": {},
   "outputs": [
    {
     "name": "stdout",
     "output_type": "stream",
     "text": [
      "Sheet has 180 rows.\n"
     ]
    }
   ],
   "source": [
    "# Count rows in a sheet iterating over the rows using .get_rows() generator.\n",
    "nrows = 0\n",
    "for row in sheet.get_rows():\n",
    "    nrows += 1\n",
    "print(\"Sheet has {} rows.\".format(nrows))"
   ]
  },
  {
   "cell_type": "markdown",
   "metadata": {},
   "source": [
    "`Sheet.row_values(rowx, start_colx=0, end_colx=None)` returns a slice of the values of the cells in the given row."
   ]
  },
  {
   "cell_type": "code",
   "execution_count": 44,
   "metadata": {},
   "outputs": [
    {
     "data": {
      "text/plain": [
       "['IFS Code', 'Region', '']"
      ]
     },
     "execution_count": 44,
     "metadata": {},
     "output_type": "execute_result"
    }
   ],
   "source": [
    "# Get the values from cells 4 to 6 at row 3\n",
    "sheet.row_values(2)[3:6]\n",
    "\n",
    "# Same result, passing slice start_colx and end_colx.\n",
    "sheet.row_values(2,3,6)"
   ]
  },
  {
   "cell_type": "markdown",
   "metadata": {},
   "source": [
    "`Sheet.row_slice(rowx, start_colx=0, end_colx=None)` returns a slice of the `Cell` objects in the given row."
   ]
  },
  {
   "cell_type": "code",
   "execution_count": 45,
   "metadata": {},
   "outputs": [
    {
     "data": {
      "text/plain": [
       "[text:'IFS Code', text:'Region', empty:'']"
      ]
     },
     "execution_count": 45,
     "metadata": {},
     "output_type": "execute_result"
    }
   ],
   "source": [
    "# Get Cell objects for cells 4 to 6 at row 3.\n",
    "sheet.row_slice(2,3,6)"
   ]
  },
  {
   "cell_type": "markdown",
   "metadata": {},
   "source": [
    "`Sheet.col_slice(colx, start_rowx=0, end_rowx=None)` returns a slice of the Cell objects in the given column."
   ]
  },
  {
   "cell_type": "code",
   "execution_count": 46,
   "metadata": {},
   "outputs": [
    {
     "data": {
      "text/plain": [
       "[text:'DNK', text:'NZL', text:'FIN']"
      ]
     },
     "execution_count": 46,
     "metadata": {},
     "output_type": "execute_result"
    }
   ],
   "source": [
    "# Get Cell objects for rows 4 to 6 at column 3\n",
    "sheet.col_slice(2,3,6)"
   ]
  },
  {
   "cell_type": "markdown",
   "metadata": {},
   "source": [
    "`Sheet.col_values(colx, start_rowx=0, end_rowx=None)` returns a slice of the values of the cells in the given column."
   ]
  },
  {
   "cell_type": "code",
   "execution_count": 47,
   "metadata": {},
   "outputs": [
    {
     "data": {
      "text/plain": [
       "['DNK', 'NZL', 'FIN']"
      ]
     },
     "execution_count": 47,
     "metadata": {},
     "output_type": "execute_result"
    }
   ],
   "source": [
    "# Get cell values from rows 4 to 6 at column 3\n",
    "sheet.col_values(2,3,6)"
   ]
  },
  {
   "cell_type": "markdown",
   "metadata": {},
   "source": [
    "`Sheet.col_types(colx, start_rowx=0, end_rowx=None)` returns a slice of the types of the cells in the given column. For the types see [Cell](https://xlrd.readthedocs.io/en/latest/api.html#xlrd.sheet.Cell) class."
   ]
  },
  {
   "cell_type": "code",
   "execution_count": 48,
   "metadata": {},
   "outputs": [
    {
     "data": {
      "text/plain": [
       "[1, 1, 1]"
      ]
     },
     "execution_count": 48,
     "metadata": {},
     "output_type": "execute_result"
    }
   ],
   "source": [
    "# Get cell types from rows 4 to 6 at column 3\n",
    "sheet.col_types(2,3,6)"
   ]
  },
  {
   "cell_type": "markdown",
   "metadata": {},
   "source": [
    "`Sheet.row_types(colx, start_rowx=0, end_rowx=None)` returns a slice of the types of the cells in the given row. For the types see Cell class."
   ]
  },
  {
   "cell_type": "code",
   "execution_count": 51,
   "metadata": {},
   "outputs": [
    {
     "data": {
      "text/plain": [
       "array('B', [1, 1, 1])"
      ]
     },
     "execution_count": 51,
     "metadata": {},
     "output_type": "execute_result"
    }
   ],
   "source": [
    "# Get cell types from column 4 to 6 at row 3\n",
    "sheet.row_types(2,3,6)"
   ]
  },
  {
   "cell_type": "markdown",
   "metadata": {},
   "source": [
    "### Explore `xlrd` Cell\n",
    "\n",
    "[`Cell`](https://xlrd.readthedocs.io/en/latest/api.html#xlrd.sheet.Cell) objects represent cell content in Excel worksheet."
   ]
  },
  {
   "cell_type": "code",
   "execution_count": 53,
   "metadata": {},
   "outputs": [
    {
     "data": {
      "text/plain": [
       "text:'EU'"
      ]
     },
     "execution_count": 53,
     "metadata": {},
     "output_type": "execute_result"
    }
   ],
   "source": [
    "cell = sheet.cell(5,4)\n",
    "cell"
   ]
  },
  {
   "cell_type": "markdown",
   "metadata": {},
   "source": [
    "`Cell.value` attribute holds the value of the cell."
   ]
  },
  {
   "cell_type": "code",
   "execution_count": 54,
   "metadata": {},
   "outputs": [
    {
     "data": {
      "text/plain": [
       "'EU'"
      ]
     },
     "execution_count": 54,
     "metadata": {},
     "output_type": "execute_result"
    }
   ],
   "source": [
    "cell.value"
   ]
  },
  {
   "cell_type": "markdown",
   "metadata": {},
   "source": [
    "`Cell.ctype` attribute holds integer, representing the type of the cell. For more information see [`Cell` API Reference](https://xlrd.readthedocs.io/en/latest/api.html#xlrd.sheet.Cell)."
   ]
  },
  {
   "cell_type": "code",
   "execution_count": 55,
   "metadata": {},
   "outputs": [
    {
     "data": {
      "text/plain": [
       "1"
      ]
     },
     "execution_count": 55,
     "metadata": {},
     "output_type": "execute_result"
    }
   ],
   "source": [
    "cell.ctype"
   ]
  },
  {
   "cell_type": "markdown",
   "metadata": {},
   "source": [
    "### Excel Reader\n",
    "\n",
    "We are going to create a generic class which allows to easily process Excel sheets in row-by-row fashion.\n"
   ]
  },
  {
   "cell_type": "code",
   "execution_count": 70,
   "metadata": {},
   "outputs": [],
   "source": [
    "class PivanExcelReader:\n",
    "    \"\"\"Read Excel Worksheet and iterate over rows calling a given function.\n",
    "    \"\"\"\n",
    "    def __init__(self, fname, sheet_name, skip_rows = 0, header_rows = 0):\n",
    "        self.fname = fname\n",
    "        self.skip_rows = skip_rows\n",
    "        self.header_rows = header_rows\n",
    "        self.book = xlrd.open_workbook(fname)\n",
    "        self.sheet_name = sheet_name\n",
    "        self.sheet = self.book.sheet_by_name(sheet_name)\n",
    "        self.nrow = 0\n",
    "    \n",
    "    def getMergedHeader(self):\n",
    "        \"\"\"Returns a sequence of cell values for a header row.\n",
    "        \n",
    "        If the header contains multiple rows, cells are concatenated vertically.\n",
    "        Cell values are speared, using space ' ' character.\n",
    "        \"\"\"\n",
    "        skip_rows, header_rows = (self.skip_rows, self.header_rows)\n",
    "        if self.header_rows < 1:\n",
    "            raise ValueError('header_rows must be greater than 0 to call getMergedHeader()')\n",
    "        header_row = [cell for cell in sheet.row_values(skip_rows)]\n",
    "        for nrow in range(skip_rows + 1, skip_rows + header_rows):\n",
    "            row = sheet.row_values(nrow)\n",
    "            for ncell in range(sheet.ncols):\n",
    "                if header_row[ncell] != '' and row[ncell] != '':\n",
    "                    header_row[ncell] = header_row[ncell] + ' ' + row[ncell]\n",
    "                else:\n",
    "                    header_row[ncell] = header_row[ncell] + row[ncell]\n",
    "        return (header_row)\n",
    "        \n",
    "    def mapRows(self, func, cell_formatter = None, nrows = None):\n",
    "        \"\"\"Iterate over \"data\" rows in a sheet.\n",
    "        \n",
    "        skip_rows + header_rows number of rows are skipped as non-data rows.\n",
    "        \n",
    "        Each cell value is processed using the `cell_formatter` function. \n",
    "        `cell_formatter` takes one argument - Cell object.\n",
    "        \n",
    "        Each row, as a sequence of cell values is passed to the `func` function.\n",
    "        `func` takes one argument - a sequence of cell values.\n",
    "        \n",
    "        If `nrows` is specified, at max `nrows` rows are processed. Otherwise all rows\n",
    "        are processed.\n",
    "        \"\"\"\n",
    "        if (nrows is None):\n",
    "            last_rowx = self.sheet.nrows\n",
    "        else:\n",
    "            last_rowx = self.skip_rows + self.header_rows + nrows\n",
    "            if (last_rowx > self.sheet.nrows):\n",
    "                last_rowx = self.sheet.nrows\n",
    "        for nrow in range(self.skip_rows + self.header_rows, last_rowx):\n",
    "            if cell_formatter is None:\n",
    "                row = self.sheet.row_values(nrow)\n",
    "            else:\n",
    "                row = [cell_formatter(cell) for cell in self.sheet.row(nrow)]\n",
    "            func(row)\n"
   ]
  },
  {
   "cell_type": "markdown",
   "metadata": {},
   "source": [
    "#### Example: Convert Excel Worksheet to CSV\n"
   ]
  },
  {
   "cell_type": "code",
   "execution_count": 76,
   "metadata": {},
   "outputs": [
    {
     "name": "stdout",
     "output_type": "stream",
     "text": [
      "Country Rank,Country / Territory,WB Code,IFS Code,Region,Country Rank,CPI 2013 Score,Surveys Used,Standard Error,90% Confidence interval Lower,Upper,Scores range MIN,MAX,Data sources AFDB,BF (SGI),BF (BTI),IMD,ICRG,WB,WEF,WJP,EIU,GI,PERC,TI,FH\r\n",
      "1,Denmark,DNK,128,EU,1,91,7,2.2,87,95,83,98,0,97,0,96,98,0,87,89,88,83,0,0,0\r\n",
      "1,New Zealand,NZL,196,AP,1,91,7,2.3,87,95,83,98,0,97,0,89,98,0,96,86,88,83,0,0,0\r\n",
      "3,Finland,FIN,172,EU,3,89,7,1.7,86,92,83,98,0,89,0,89,98,0,90,87,88,83,0,0,0\r\n",
      "3,Sweden,SWE,144,EU,3,89,7,2.3,85,93,83,98,0,97,0,83,98,0,86,89,88,83,0,0,0\r\n",
      "5,Norway,NOR,142,EU,5,86,7,2.3,82,90,80,98,0,81,0,80,98,0,85,88,88,83,0,0,0\r\n"
     ]
    }
   ],
   "source": [
    "import csv\n",
    "import sys\n",
    "writer = csv.writer(sys.stdout)\n",
    "\n",
    "def cell_formatter(cell):\n",
    "    \"\"\"Format cell values.\n",
    "    \n",
    "    Convert float values with zero fractional part to integer.\n",
    "    \"\"\"\n",
    "    val = cell.value\n",
    "    if cell.ctype == xlrd.XL_CELL_NUMBER:\n",
    "        if int(val) == val:\n",
    "            val = int(val)\n",
    "    return val\n",
    "\n",
    "per = PivanExcelReader(workbook_file, sheet_name, skip_rows = skip_rows, header_rows = header_rows)\n",
    "writer.writerow(per.getMergedHeader())\n",
    "per.mapRows(writer.writerow, cell_formatter=cell_formatter, nrows=5)"
   ]
  },
  {
   "cell_type": "code",
   "execution_count": null,
   "metadata": {},
   "outputs": [],
   "source": []
  }
 ],
 "metadata": {
  "kernelspec": {
   "display_name": "Python 3",
   "language": "python",
   "name": "python3"
  },
  "language_info": {
   "codemirror_mode": {
    "name": "ipython",
    "version": 3
   },
   "file_extension": ".py",
   "mimetype": "text/x-python",
   "name": "python",
   "nbconvert_exporter": "python",
   "pygments_lexer": "ipython3",
   "version": "3.7.1"
  }
 },
 "nbformat": 4,
 "nbformat_minor": 2
}
